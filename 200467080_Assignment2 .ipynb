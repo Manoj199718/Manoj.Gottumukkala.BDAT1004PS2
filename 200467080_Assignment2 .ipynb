{
 "cells": [
  {
   "cell_type": "markdown",
   "metadata": {},
   "source": [
    "# Question 1\n",
    "Consider the following Python module:\n"
   ]
  },
  {
   "cell_type": "markdown",
   "metadata": {},
   "source": [
    "a = 0\n",
    "def b():\n",
    " global a\n",
    " a = c(a)\n",
    "def c(a):\n",
    " return a + 2\n",
    "After importing the module into the interpreter, you execute:\n",
    "b()\n",
    "b()\n",
    "b()\n",
    "a\n",
    "?\n"
   ]
  },
  {
   "cell_type": "markdown",
   "metadata": {},
   "source": [
    "What value is displayed when the last expression (a) is evaluated? Explain your\n",
    "answer by indicating what happens in every executed statement."
   ]
  },
  {
   "cell_type": "code",
   "execution_count": 9,
   "metadata": {},
   "outputs": [],
   "source": [
    "a=0\n",
    "def b():   # Function definition\n",
    "    global a   #Initializing 'a' as a global variable\n",
    "    a=c(a)     # Function call"
   ]
  },
  {
   "cell_type": "code",
   "execution_count": 10,
   "metadata": {},
   "outputs": [],
   "source": [
    "def c(a):\n",
    "    return a+2"
   ]
  },
  {
   "cell_type": "code",
   "execution_count": 11,
   "metadata": {},
   "outputs": [],
   "source": [
    "b()    #Function call"
   ]
  },
  {
   "cell_type": "code",
   "execution_count": 12,
   "metadata": {},
   "outputs": [],
   "source": [
    "b()"
   ]
  },
  {
   "cell_type": "code",
   "execution_count": 13,
   "metadata": {},
   "outputs": [],
   "source": [
    "b()"
   ]
  },
  {
   "cell_type": "code",
   "execution_count": 14,
   "metadata": {},
   "outputs": [
    {
     "data": {
      "text/plain": [
       "6"
      ]
     },
     "execution_count": 14,
     "metadata": {},
     "output_type": "execute_result"
    }
   ],
   "source": [
    "a"
   ]
  },
  {
   "cell_type": "markdown",
   "metadata": {},
   "source": [
    "The value of 6 is displayed when the last expression (a) is evaluated. The flow of execution can explain the answer. Firstly when b() is called, the execution flow goes to 'global a' under function 'b()'(namespace b) and considers 'a' as a global variable. It then executes the next statement(a=c(a)), and now the control of flow moves to the first statement under function 'c' with parameter 'a.' This function returns the (a+2, which is 2 as a=0 initially) to variable a in function b. Now a's value is 2. The above process repeats for another two times as we are calling b twice. So, the final value of a is (2+2+2)=6."
   ]
  },
  {
   "cell_type": "markdown",
   "metadata": {},
   "source": [
    "# Question 2\n"
   ]
  },
  {
   "cell_type": "markdown",
   "metadata": {},
   "source": [
    "Function fileLength(), given to you, takes the name of a file as input and returns\n",
    "the length of the file:\n",
    "As shown above, if the file cannot be found by the interpreter or if it cannot be read\n",
    "as a text file, an exception will be raised. Modify function fileLength() so that a\n",
    "friendly message is printed instead:"
   ]
  },
  {
   "cell_type": "code",
   "execution_count": 20,
   "metadata": {},
   "outputs": [],
   "source": [
    "def filelength(filename):      #Function definition\n",
    "        size = os.path.getsize(filename)    #Getting the size of the file using os class.\n",
    "        print(size)"
   ]
  },
  {
   "cell_type": "code",
   "execution_count": 22,
   "metadata": {},
   "outputs": [
    {
     "ename": "FileNotFoundError",
     "evalue": "[WinError 2] The system cannot find the file specified: 'manoj.txt'",
     "output_type": "error",
     "traceback": [
      "\u001b[1;31m---------------------------------------------------------------------------\u001b[0m",
      "\u001b[1;31mFileNotFoundError\u001b[0m                         Traceback (most recent call last)",
      "\u001b[1;32m<ipython-input-22-74f14bd2d483>\u001b[0m in \u001b[0;36m<module>\u001b[1;34m\u001b[0m\n\u001b[0;32m      1\u001b[0m \u001b[1;32mimport\u001b[0m \u001b[0mos\u001b[0m\u001b[1;33m\u001b[0m\u001b[1;33m\u001b[0m\u001b[0m\n\u001b[1;32m----> 2\u001b[1;33m \u001b[0mfilename\u001b[0m\u001b[1;33m=\u001b[0m\u001b[0mfilelength\u001b[0m\u001b[1;33m(\u001b[0m\u001b[1;34m\"manoj.txt\"\u001b[0m\u001b[1;33m)\u001b[0m\u001b[1;33m\u001b[0m\u001b[1;33m\u001b[0m\u001b[0m\n\u001b[0m",
      "\u001b[1;32m<ipython-input-20-f55902cb7257>\u001b[0m in \u001b[0;36mfilelength\u001b[1;34m(filename)\u001b[0m\n\u001b[0;32m      1\u001b[0m \u001b[1;32mdef\u001b[0m \u001b[0mfilelength\u001b[0m\u001b[1;33m(\u001b[0m\u001b[0mfilename\u001b[0m\u001b[1;33m)\u001b[0m\u001b[1;33m:\u001b[0m\u001b[1;33m\u001b[0m\u001b[1;33m\u001b[0m\u001b[0m\n\u001b[1;32m----> 2\u001b[1;33m         \u001b[0msize\u001b[0m \u001b[1;33m=\u001b[0m \u001b[0mos\u001b[0m\u001b[1;33m.\u001b[0m\u001b[0mpath\u001b[0m\u001b[1;33m.\u001b[0m\u001b[0mgetsize\u001b[0m\u001b[1;33m(\u001b[0m\u001b[0mfilename\u001b[0m\u001b[1;33m)\u001b[0m\u001b[1;33m\u001b[0m\u001b[1;33m\u001b[0m\u001b[0m\n\u001b[0m\u001b[0;32m      3\u001b[0m         \u001b[0mprint\u001b[0m\u001b[1;33m(\u001b[0m\u001b[0msize\u001b[0m\u001b[1;33m)\u001b[0m\u001b[1;33m\u001b[0m\u001b[1;33m\u001b[0m\u001b[0m\n",
      "\u001b[1;32m~\\anaconda3\\lib\\genericpath.py\u001b[0m in \u001b[0;36mgetsize\u001b[1;34m(filename)\u001b[0m\n\u001b[0;32m     48\u001b[0m \u001b[1;32mdef\u001b[0m \u001b[0mgetsize\u001b[0m\u001b[1;33m(\u001b[0m\u001b[0mfilename\u001b[0m\u001b[1;33m)\u001b[0m\u001b[1;33m:\u001b[0m\u001b[1;33m\u001b[0m\u001b[1;33m\u001b[0m\u001b[0m\n\u001b[0;32m     49\u001b[0m     \u001b[1;34m\"\"\"Return the size of a file, reported by os.stat().\"\"\"\u001b[0m\u001b[1;33m\u001b[0m\u001b[1;33m\u001b[0m\u001b[0m\n\u001b[1;32m---> 50\u001b[1;33m     \u001b[1;32mreturn\u001b[0m \u001b[0mos\u001b[0m\u001b[1;33m.\u001b[0m\u001b[0mstat\u001b[0m\u001b[1;33m(\u001b[0m\u001b[0mfilename\u001b[0m\u001b[1;33m)\u001b[0m\u001b[1;33m.\u001b[0m\u001b[0mst_size\u001b[0m\u001b[1;33m\u001b[0m\u001b[1;33m\u001b[0m\u001b[0m\n\u001b[0m\u001b[0;32m     51\u001b[0m \u001b[1;33m\u001b[0m\u001b[0m\n\u001b[0;32m     52\u001b[0m \u001b[1;33m\u001b[0m\u001b[0m\n",
      "\u001b[1;31mFileNotFoundError\u001b[0m: [WinError 2] The system cannot find the file specified: 'manoj.txt'"
     ]
    }
   ],
   "source": [
    "import os\n",
    "filename=filelength(\"manoj.txt\")   #Function call( giving an unknown filename as input)"
   ]
  },
  {
   "cell_type": "code",
   "execution_count": 23,
   "metadata": {},
   "outputs": [
    {
     "name": "stdout",
     "output_type": "stream",
     "text": [
      "103\n"
     ]
    }
   ],
   "source": [
    "filename=filelength(\"blood.txt\")   #Function call (giving file name as input)"
   ]
  },
  {
   "cell_type": "code",
   "execution_count": 24,
   "metadata": {},
   "outputs": [],
   "source": [
    "def filelength(filename):           #Using try and except\n",
    "    try:\n",
    "        size = os.path.getsize(filename)\n",
    "        print(size)\n",
    "    except:\n",
    "        print(filename+\" not found\")"
   ]
  },
  {
   "cell_type": "code",
   "execution_count": 25,
   "metadata": {},
   "outputs": [
    {
     "name": "stdout",
     "output_type": "stream",
     "text": [
      "manoj.txt not found\n"
     ]
    }
   ],
   "source": [
    "filename=filelength(\"manoj.txt\")  #Giving the unknown filename as input."
   ]
  },
  {
   "cell_type": "markdown",
   "metadata": {},
   "source": [
    "# Question:3"
   ]
  },
  {
   "cell_type": "markdown",
   "metadata": {},
   "source": [
    "Write a class named Marsupial as:"
   ]
  },
  {
   "cell_type": "code",
   "execution_count": 1,
   "metadata": {},
   "outputs": [],
   "source": [
    "class Marsupial:                    #Creating Marsupial class\n",
    "    def __init__(self):             #Initializing the class variables, these variables are used whenever the function is called.\n",
    "        self.list=[]\n",
    "    def put_in_pouch(self,a):       #Using put_in_pouch method which is useful for appending data into the list.\n",
    "        self.list.append(a)\n",
    "    def pouch_contents(self):      #Using pouch_contents method which is helpful in displaying the contents of the list.\n",
    "        return(self.list)"
   ]
  },
  {
   "cell_type": "code",
   "execution_count": 2,
   "metadata": {},
   "outputs": [],
   "source": [
    "m=Marsupial()                     #Defining object m\n",
    "m.put_in_pouch('doll')            #Calling the method put_in_pouch\n",
    "m.put_in_pouch('firetruck')\n",
    "m.put_in_pouch('kitten')"
   ]
  },
  {
   "cell_type": "code",
   "execution_count": 3,
   "metadata": {},
   "outputs": [
    {
     "data": {
      "text/plain": [
       "['doll', 'firetruck', 'kitten']"
      ]
     },
     "execution_count": 3,
     "metadata": {},
     "output_type": "execute_result"
    }
   ],
   "source": [
    "m.pouch_contents()"
   ]
  },
  {
   "cell_type": "markdown",
   "metadata": {},
   "source": [
    "Now write a class named Kangaroo as a subclass of Marsupial that inherits all the\n",
    "attributes of Marsupial and also:\n",
    "a. extends the Marsupial __init__ constructor to take, as input, the\n",
    "coordinates x and y of the Kangaroo object,\n",
    "b. supports method jump that takes number values dx and dy as input and\n",
    "moves the kangaroo by dx units along the x-axis and by dy units along the yaxis, and\n",
    "c. overloads the __str__ operator so it behaves as shown below."
   ]
  },
  {
   "cell_type": "code",
   "execution_count": 4,
   "metadata": {},
   "outputs": [],
   "source": [
    "class Kangaroo(Marsupial):                 #Class Kangaroo inherited from Marsupial class\n",
    "    def __init__(self,x,y):\n",
    "        self.p=x\n",
    "        self.q=y\n",
    "        Marsupial.__init__(self)           #Using the Marsupial class variables\n",
    "    def jump(self,dx,dy):\n",
    "        self.p+=dx                         #self.p=self.p+dx\n",
    "        self.q+=dy                         #self.q=self.q+dy\n",
    "    def __str__(self):\n",
    "        return 'I am a Kangaroo located at coordinates  ({},{})'.format(self.p,self.q)"
   ]
  },
  {
   "cell_type": "code",
   "execution_count": 5,
   "metadata": {},
   "outputs": [
    {
     "name": "stdout",
     "output_type": "stream",
     "text": [
      "I am a Kangaroo located at coordinates  (0,0)\n"
     ]
    }
   ],
   "source": [
    "k=Kangaroo(0,0)                 #Creating a object \n",
    "print(k)"
   ]
  },
  {
   "cell_type": "code",
   "execution_count": 6,
   "metadata": {},
   "outputs": [],
   "source": [
    "k.put_in_pouch('doll')            #Calling the method.\n",
    "k.put_in_pouch('firetruck')\n",
    "k.put_in_pouch('kitten')"
   ]
  },
  {
   "cell_type": "code",
   "execution_count": 7,
   "metadata": {},
   "outputs": [
    {
     "data": {
      "text/plain": [
       "['doll', 'firetruck', 'kitten']"
      ]
     },
     "execution_count": 7,
     "metadata": {},
     "output_type": "execute_result"
    }
   ],
   "source": [
    "k.pouch_contents()"
   ]
  },
  {
   "cell_type": "code",
   "execution_count": 8,
   "metadata": {},
   "outputs": [],
   "source": [
    "k.jump(1,0)\n",
    "k.jump(1,0)\n",
    "k.jump(1,0)"
   ]
  },
  {
   "cell_type": "code",
   "execution_count": 9,
   "metadata": {},
   "outputs": [
    {
     "name": "stdout",
     "output_type": "stream",
     "text": [
      "I am a Kangaroo located at coordinates  (3,0)\n"
     ]
    }
   ],
   "source": [
    "print(k)"
   ]
  },
  {
   "cell_type": "markdown",
   "metadata": {},
   "source": [
    "# Question 4"
   ]
  },
  {
   "cell_type": "markdown",
   "metadata": {},
   "source": [
    "Implement a new GUI class App that combines user-defined tkinter widget classes\n",
    "Calculator and Mortgage displayed below: (This question can be done using a\n",
    ".py file)"
   ]
  },
  {
   "cell_type": "code",
   "execution_count": 10,
   "metadata": {},
   "outputs": [],
   "source": [
    "import tkinter.ttk \n",
    "from tkinter import *\n",
    "\n",
    "root=Tk()                         #Widget Tk represents GUI window\n",
    "labels=[['MC','M+','M-','MR'], \n",
    "        ['C  ','\\u221A ','x^2','+  '],\n",
    "        ['7  ','8  ','9  ','-  '],\n",
    "        ['4  ','5  ','6  ','*  '],\n",
    "        ['1  ','2  ','3  ','/  '],\n",
    "        ['0  ','.  ','+- ','=  ']]\n",
    "#Initializing the labels\n",
    "for r in range(6):\n",
    "        for c in range(4):\n",
    "            label=Label(root,relief=RAISED,padx=15,text=labels[r][c])  #Using Label method.\n",
    "            label.grid(row=r,column=c)                                  #Creates a grid and sorts the labels accrodingly\n",
    "root.mainloop()     #This function starts the GUI\n",
    "            "
   ]
  },
  {
   "cell_type": "code",
   "execution_count": 11,
   "metadata": {},
   "outputs": [],
   "source": [
    "import tkinter\n",
    "from tkinter import *\n",
    "root=Tk()\n",
    "label1=Label(root,text='Loan Amount')         #Calling Label method.\n",
    "label1.grid(row=0,column=0)                   #Places label 1 in grid position (0,0)\n",
    "ent1=Entry(root)\n",
    "ent1.grid(row=0,column=1)                     #Places ent1 in grid position (0,1)\n",
    "label2=Label(root,text='Interest Rate')       #Calling Label method.\n",
    "label2.grid(row=1,column=0)                   #Places label 2 in grid position (1,0)\n",
    "ent2=Entry(root)\n",
    "ent2.grid(row=1,column=1)                      #Places ent2 in grid position (1,1)\n",
    "label3=Label(root,text='Loan Terms')           \n",
    "label3.grid(row=2,column=0)                   #Places label 3 in grid position (2,0)\n",
    "ent3=Entry(root)\n",
    "ent3.grid(row=2,column=1)                     #Places ent3 in grid position (2,1)\n",
    "button=Button(root,text='Compute mortage')\n",
    "button.grid(row=3,column=0)                   #Places button in grid position (3,0)\n",
    "ent4=Entry(root)\n",
    "ent4.grid(row=3,column=1)                     #Places butt in grid position (3,0)\n",
    "root.mainloop()\n",
    "\n",
    "#Output of this program  is submitting in a pdf."
   ]
  },
  {
   "cell_type": "markdown",
   "metadata": {},
   "source": [
    "# Question 5"
   ]
  },
  {
   "cell_type": "markdown",
   "metadata": {},
   "source": [
    "Write function collatz() that takes a positive integer x as input and prints the\n",
    "Collatz sequence starting at x. A Collatz sequence is obtained by repeatedly applying\n",
    "this rule to the previous number x in the sequence:\n",
    "x = {\n",
    "𝑥/2 𝑖𝑓 𝑥 𝑖𝑠 𝑒𝑣𝑒𝑛\n",
    "3𝑥 + 1 𝑖𝑓 𝑥 𝑖𝑠 𝑜𝑑d\n",
    "}\n",
    "Your function should stop when the sequence gets to number 1. Your\n",
    "implementation must be recursive, without any loops."
   ]
  },
  {
   "cell_type": "code",
   "execution_count": 7,
   "metadata": {},
   "outputs": [],
   "source": [
    "def collatz(x):                        #Function definition\n",
    "    if x<=1:                           #Base condition\n",
    "        print(x)\n",
    "    elif x%2==0:                       #Has recursive condition if x is even\n",
    "        print(x)\n",
    "        return(collatz(x/2))\n",
    "    else:                           #Has recursive condition if x is odd\n",
    "        print(x)\n",
    "        return(collatz(3*x+1))"
   ]
  },
  {
   "cell_type": "code",
   "execution_count": 8,
   "metadata": {},
   "outputs": [
    {
     "name": "stdout",
     "output_type": "stream",
     "text": [
      "Enter a positive number: 10\n",
      "10\n",
      "5.0\n",
      "16.0\n",
      "8.0\n",
      "4.0\n",
      "2.0\n",
      "1.0\n"
     ]
    }
   ],
   "source": [
    "x=int(input(\"Enter a positive number: \"))\n",
    "if(x>0):\n",
    "    collatz(x)\n",
    "else:\n",
    "    print(\"Please enter a positive number\")"
   ]
  },
  {
   "cell_type": "code",
   "execution_count": 4,
   "metadata": {},
   "outputs": [
    {
     "name": "stdout",
     "output_type": "stream",
     "text": [
      "1\n"
     ]
    }
   ],
   "source": [
    "collatz(1)"
   ]
  },
  {
   "cell_type": "markdown",
   "metadata": {},
   "source": [
    "# Question 6"
   ]
  },
  {
   "cell_type": "markdown",
   "metadata": {},
   "source": [
    "Write a recursive method binary() that takes a non-negative\n",
    "integer n and prints the binary representation of integer n."
   ]
  },
  {
   "cell_type": "code",
   "execution_count": 10,
   "metadata": {},
   "outputs": [],
   "source": [
    "def binary(n):                    #Function definition\n",
    "    if n>1:                       #Enter into loop only when n>1\n",
    "        binary(n//2)               # Recursive call\n",
    "    print(n%2, end='')             #Prints the values in a same line"
   ]
  },
  {
   "cell_type": "code",
   "execution_count": 11,
   "metadata": {},
   "outputs": [
    {
     "name": "stdout",
     "output_type": "stream",
     "text": [
      "Enter the value of n:3\n",
      "11"
     ]
    }
   ],
   "source": [
    "n=int(input('Enter the value of n:')) #Takes the input from the user.\n",
    "if n>0:                               #The function only works when the values of n are positive\n",
    "    binary(n)\n",
    "else:\n",
    "    print('Enter a positive number')"
   ]
  },
  {
   "cell_type": "code",
   "execution_count": 12,
   "metadata": {},
   "outputs": [
    {
     "name": "stdout",
     "output_type": "stream",
     "text": [
      "Enter the value of n:9\n",
      "1001"
     ]
    }
   ],
   "source": [
    "n=int(input('Enter the value of n:')) #Takes the input from the user.\n",
    "if n>0:                               #The function only works when the values of n are positive\n",
    "    binary(n)\n",
    "else:\n",
    "    print('Enter a positive number')"
   ]
  },
  {
   "cell_type": "code",
   "execution_count": 13,
   "metadata": {},
   "outputs": [
    {
     "name": "stdout",
     "output_type": "stream",
     "text": [
      "Enter the value of n:1\n",
      "1"
     ]
    }
   ],
   "source": [
    "n=int(input('Enter the value of n:')) #Takes the input from the user.\n",
    "if n>0:                               #The function only works when the values of n are positive\n",
    "    binary(n)\n",
    "else:\n",
    "    print('Enter a positive number')"
   ]
  },
  {
   "cell_type": "markdown",
   "metadata": {},
   "source": [
    "# Question 7"
   ]
  },
  {
   "cell_type": "markdown",
   "metadata": {},
   "source": [
    "Implement a class named HeadingParser that can be used to parse an HTML\n",
    "document, and retrieve and print all the headings in the document. You should\n",
    "implement your class as a subclass of HTMLParser, defined in Standard Library\n",
    "module html.parser. When fed a string containing HTML code, your class should\n",
    "print the headings, one per line and in the order in which they appear in the\n",
    "document. Each heading should be indented as follows: an h1 heading should have\n",
    "indentation 0, and h2 heading should have indentation 1, etc. Test your\n",
    "implementation using w3c.html."
   ]
  },
  {
   "cell_type": "code",
   "execution_count": 6,
   "metadata": {
    "scrolled": true
   },
   "outputs": [
    {
     "name": "stdout",
     "output_type": "stream",
     "text": [
      " Heading1 \n",
      "\n",
      "        \n",
      "   Heading2 \n",
      "  \n",
      "        \n",
      "    Heading3 \n",
      "   \n",
      "        \n",
      "     Heading4 \n",
      "    \n",
      "        \n",
      "      Heading5 \n",
      "     \n",
      "        \n",
      "       Heading6 \n",
      "      \n",
      "     \n",
      "    \n",
      "      \n",
      "\n"
     ]
    }
   ],
   "source": [
    "from html.parser import HTMLParser\n",
    "\n",
    "class HeadingParser(HTMLParser):\n",
    "    inHeading = False\n",
    "    def handle_starttag(self, tag, attrs):\n",
    "        if tag == \"h1\":                     #Checks for h1 header tag\n",
    "            self.inHeading =1               #Sets the value to 1\n",
    "        if tag==\"h2\":                       #Checks for h2 header tag\n",
    "            self.inHeading=2                #Sets the value to 2\n",
    "        if tag==\"h3\":                       #Checks for h3 header tag\n",
    "            self.inHeading=3                #Sets the value to 3\n",
    "        if tag==\"h4\":                       #Checks for h4 header tag\n",
    "            self.inHeading=4                #Sets the value to 4\n",
    "        if tag==\"h5\":                       #Checks for h5 header tag\n",
    "            self.inHeading=5                #Sets the value to 5\n",
    "        if tag==\"h6\":                       #Checks for h6 header tag\n",
    "            self.inHeading=6                #Sets the value to 6\n",
    "    \n",
    "    def handle_data(self, data):\n",
    "        if self.inHeading==1:             #Checks for h1 tag data and prints it\n",
    "            print(data)\n",
    "        if self.inHeading==2:            #Checks for h2 tag data and prints it\n",
    "            print(1*' ',data)\n",
    "        if self.inHeading==3:             #Checks for h3 tag data and prints it\n",
    "            print(2*' ',data)\n",
    "        if self.inHeading==4:             #Checks for h4 tag data and prints it\n",
    "            print(3*' ',data)\n",
    "        if self.inHeading==5:             #Checks for h5 tag data and prints it\n",
    "            print(4*' ',data)\n",
    "        if self.inHeading==6:             #Checks for h6 tag data and prints it\n",
    "            print(5*' ',data)\n",
    "hParser = HeadingParser()\n",
    "#The w3c.html doesn't exist, so created a html file named 'web.html'.\n",
    "file = open(\"web.html\", \"r\")               #Opens the html file, this html file is uploaded to github.\n",
    "html = file.read()                         #Reads the html file\n",
    "file.close()                               #Closes the file\n",
    "hParser.feed(html)                      #Feeds the data into class."
   ]
  },
  {
   "cell_type": "markdown",
   "metadata": {},
   "source": [
    "# Question 8"
   ]
  },
  {
   "cell_type": "markdown",
   "metadata": {},
   "source": [
    "Implement recursive function webdir() that takes as input: a URL (as a string) and\n",
    "non-negative integers depth and indent. Your function should visit every web\n",
    "page reachable from the starting URL web page in depth clicks or less, and print\n",
    "each web page's URL. As shown below, indentation, specified by indent, should\n",
    "be used to indicate the depth of a URL."
   ]
  },
  {
   "cell_type": "code",
   "execution_count": 21,
   "metadata": {},
   "outputs": [],
   "source": [
    "from html.parser import HTMLParser\n",
    "def webdir(url,depth,indent):  #Function defintion\n",
    "    if(depth>0):\n",
    "        req = Request(url, headers={'User-Agent': 'Mozilla/5.0'})\n",
    "        html_page = urlopen(req)           #Opens the html page\n",
    "        html1=html_page.read()             #Reads the html page\n",
    "        html=html1.decode()                \n",
    "        parser = MyHTMLParser()\n",
    "        parser.feed(html)                  #Feeds the information.\n",
    "    \n",
    "\n",
    "class MyHTMLParser(HTMLParser):\n",
    "    lst=[]\n",
    "    def handle_starttag(self, tag, attrs):\n",
    "        if tag == \"a\":                     #Looks for anchor tag\n",
    "                   # Check the list of defined attributes\n",
    "                for name, value in attrs:\n",
    "                       # If the name is href\n",
    "                    if name==\"href\":\n",
    "                        MyHTMLParser.lst.append(value)\n",
    "                        if(depth==2):\n",
    "                            indent=0\n",
    "                            print(name, indent*\" \",\"=\", value)   #Prints the url's in the main webpage\n",
    "                        else:\n",
    "                            indent=1\n",
    "                            print(name,indent*\" \",\"=\",value)\n",
    "                            \n",
    "#     for i in MyHTMLParser.lst:\n",
    "#         try:\n",
    "#             depth=depth-1\n",
    "#             webdir(i,depth,indent)\n",
    "#         except:\n",
    "#             continue"
   ]
  },
  {
   "cell_type": "code",
   "execution_count": 22,
   "metadata": {},
   "outputs": [
    {
     "name": "stdout",
     "output_type": "stream",
     "text": [
      "href  = ../genindex.html\n",
      "href  = ../py-modindex.html\n",
      "href  = urllib.robotparser.html\n",
      "href  = urllib.parse.html\n",
      "href  = https://www.python.org/\n",
      "href  = ../index.html\n",
      "href  = index.html\n",
      "href  = internet.html\n",
      "href  = #module-urllib.error\n",
      "href  = #module-urllib.error\n",
      "href  = https://github.com/python/cpython/tree/3.9/Lib/urllib/error.py\n",
      "href  = #module-urllib.error\n",
      "href  = urllib.request.html#module-urllib.request\n",
      "href  = #urllib.error.URLError\n",
      "href  = #module-urllib.error\n",
      "href  = #urllib.error.URLError\n",
      "href  = exceptions.html#OSError\n",
      "href  = #urllib.error.URLError.reason\n",
      "href  = #urllib.error.URLError\n",
      "href  = exceptions.html#OSError\n",
      "href  = exceptions.html#IOError\n",
      "href  = #urllib.error.HTTPError\n",
      "href  = #urllib.error.URLError\n",
      "href  = #urllib.error.HTTPError\n",
      "href  = urllib.request.html#urllib.request.urlopen\n",
      "href  = #urllib.error.HTTPError.code\n",
      "href  = https://tools.ietf.org/html/rfc2616.html\n",
      "href  = http.server.html#http.server.BaseHTTPRequestHandler.responses\n",
      "href  = #urllib.error.HTTPError.reason\n",
      "href  = #urllib.error.HTTPError.headers\n",
      "href  = #urllib.error.HTTPError\n",
      "href  = #urllib.error.ContentTooShortError\n",
      "href  = urllib.request.html#urllib.request.urlretrieve\n",
      "href  = urllib.parse.html\n",
      "href  = urllib.robotparser.html\n",
      "href  = ../bugs.html\n",
      "href  = https://github.com/python/cpython/blob/master/Doc/library/urllib.error.rst\n",
      "href  = ../genindex.html\n",
      "href  = ../py-modindex.html\n",
      "href  = urllib.robotparser.html\n",
      "href  = urllib.parse.html\n",
      "href  = https://www.python.org/\n",
      "href  = ../index.html\n",
      "href  = index.html\n",
      "href  = internet.html\n",
      "href  = ../copyright.html\n",
      "href  = https://www.python.org/psf/donations/\n",
      "href  = https://docs.python.org/3/bugs.html\n",
      "href  = https://www.sphinx-doc.org/\n"
     ]
    }
   ],
   "source": [
    "from urllib.request import Request, urlopen    #Imports Request, urlopen from urllib.request.\n",
    "url = \"https://docs.python.org/3/library/urllib.error.html\"  #URL of a website\n",
    "depth=2\n",
    "indent=0\n",
    "webdir(url,depth,indent)     #Function call"
   ]
  },
  {
   "cell_type": "code",
   "execution_count": 23,
   "metadata": {},
   "outputs": [],
   "source": [
    "# I have tried working with the above code, it is able to print the URL's in the starting web page but when recursive function is\n",
    "#called the code is printing URL's of the web page(obtained from starting web page). The process is repeated for every sub \n",
    "#page untill the kernel is dead ( Infinity). So, I have commented the recursive function code in order to\n",
    "#atleast display the starting page urls. "
   ]
  },
  {
   "cell_type": "markdown",
   "metadata": {},
   "source": [
    "# Question 9\n",
    "Write SQL queries on the below database table that return:\n",
    "a) All the temperature data.\n",
    "b) All the cities, but without repetition.\n",
    "c) All the records for India.\n",
    "d) All the Fall records.\n",
    "e) The city, country, and season for which the average rainfall is between 200\n",
    "and 400 millimeters.\n",
    "f) The city and country for which the average Fall temperature is above 20\n",
    "degrees, in increasing temperature order.\n",
    "g) The total annual rainfall for Cairo.\n",
    "h) The total rainfall for each season."
   ]
  },
  {
   "cell_type": "code",
   "execution_count": 15,
   "metadata": {
    "scrolled": true
   },
   "outputs": [
    {
     "name": "stdout",
     "output_type": "stream",
     "text": [
      "('Mumbai', 'India', 'Winter', 24.8, 5.9)\n",
      "('Mumbai', 'India', 'Spring', 28.4, 16.2)\n",
      "('Mumbai', 'India', 'Summer', 27.9, 1549.4)\n",
      "('Mumbai', 'India', 'Fall', 27.6, 346.0)\n",
      "('London', 'United Kingdom', 'Winter', 4.2, 207.7)\n",
      "('London', 'United Kingdom', 'Spring', 8.3, 169.6)\n",
      "('London', 'United Kingdom', 'Summer', 15.7, 157.0)\n",
      "('London', 'United Kingdom', 'Fall', 10.4, 218.5)\n",
      "('Cairo', 'Egypt', 'Winter', 13.6, 16.5)\n",
      "('Cairo', 'Egypt', 'Spring', 20.7, 6.5)\n",
      "('Cairo', 'Egypt', 'Summer', 27.7, 0.1)\n",
      "('Cairo', 'Egypt', 'Fall', 22.2, 4.5)\n",
      "\n",
      "a.All the temperature data\n",
      "(24.8,)\n",
      "(28.4,)\n",
      "(27.9,)\n",
      "(27.6,)\n",
      "(4.2,)\n",
      "(8.3,)\n",
      "(15.7,)\n",
      "(10.4,)\n",
      "(13.6,)\n",
      "(20.7,)\n",
      "(27.7,)\n",
      "(22.2,)\n"
     ]
    }
   ],
   "source": [
    "import sqlite3\n",
    "connection    = sqlite3.connect(\"weather1997.db\")   #Connects the database if exists otherwise creates it\n",
    "cursorObject        = connection.cursor()         #cursorObject is helpful in executing sql statements.\n",
    "cursorObject.execute(\"DROP TABLE weather1997\")\n",
    "createTable = \"CREATE TABLE weather1997(City str,Country str,Season str,Temperature float,rainfall float)\" #Creates a table named weather1997\n",
    "cursorObject.execute(createTable)\n",
    "insert = \"INSERT INTO weather1997 values('Mumbai','India','Winter',24.8 ,5.9),('Mumbai','India','Spring',28.4,16.2)\\\n",
    ",('Mumbai','India','Summer',27.9,1549.4),('Mumbai','India','Fall',27.6,346.0),('London','United Kingdom','Winter',4.2,207.7)\\\n",
    ",('London','United Kingdom','Spring',8.3,169.6),('London','United Kingdom','Summer',15.7,157.0),('London','United Kingdom','Fall',10.4,218.5)\\\n",
    ",('Cairo','Egypt','Winter',13.6,16.5),('Cairo','Egypt','Spring',20.7,6.5),('Cairo','Egypt','Summer',27.7,0.1)\\\n",
    ",('Cairo','Egypt','Fall',22.2,4.5)\"    #Inserts data into the table\n",
    "\n",
    "cursorObject.execute(insert)\n",
    "\n",
    "queryTable = \"SELECT * from weather1997\"   #Selects all the data from the table\n",
    "queryResults = cursorObject.execute(queryTable)\n",
    "for result in queryResults:\n",
    "    print(result)\n",
    "print(\"\")    \n",
    "print(\"a.All the temperature data\")    \n",
    "a=\"SELECT Temperature from weather1997\"   #Selects temperature column in the weather1997 table.\n",
    "aresults=cursorObject.execute(a)\n",
    "for result in aresults:\n",
    "    print(result)"
   ]
  },
  {
   "cell_type": "code",
   "execution_count": 16,
   "metadata": {},
   "outputs": [
    {
     "name": "stdout",
     "output_type": "stream",
     "text": [
      "b.All the cities without repetition\n",
      "('Mumbai',)\n",
      "('London',)\n",
      "('Cairo',)\n"
     ]
    }
   ],
   "source": [
    "print(\"b.All the cities without repetition\")\n",
    "b=\"SELECT DISTINCT city from weather1997\"   #Selects distint cities from the weather1997 table.\n",
    "bresults=cursorObject.execute(b)\n",
    "\n",
    "rows=bresults.fetchall()\n",
    "for result in rows:\n",
    "    print(result)\n",
    "    "
   ]
  },
  {
   "cell_type": "code",
   "execution_count": 17,
   "metadata": {},
   "outputs": [
    {
     "name": "stdout",
     "output_type": "stream",
     "text": [
      "c. All the records for india\n",
      "('Mumbai', 'India', 'Winter', 24.8, 5.9)\n",
      "('Mumbai', 'India', 'Spring', 28.4, 16.2)\n",
      "('Mumbai', 'India', 'Summer', 27.9, 1549.4)\n",
      "('Mumbai', 'India', 'Fall', 27.6, 346.0)\n"
     ]
    }
   ],
   "source": [
    "print(\"c. All the records for india\")\n",
    "c=\"SELECT * FROM weather1997 WHERE Country='India'\"  #Selects rows which belong to India.\n",
    "cresults=cursorObject.execute(c)\n",
    "rows=cresults.fetchall()\n",
    "for result in rows:\n",
    "    print(result)"
   ]
  },
  {
   "cell_type": "code",
   "execution_count": 18,
   "metadata": {},
   "outputs": [
    {
     "name": "stdout",
     "output_type": "stream",
     "text": [
      "d.All the Fall records\n",
      "('Mumbai', 'India', 'Fall', 27.6, 346.0)\n",
      "('London', 'United Kingdom', 'Fall', 10.4, 218.5)\n",
      "('Cairo', 'Egypt', 'Fall', 22.2, 4.5)\n"
     ]
    }
   ],
   "source": [
    "print(\"d.All the Fall records\")\n",
    "d=\"SELECT * from weather1997 WHERE Season='Fall'\"   #Selects instances where the season is Fall.\n",
    "dresults=cursorObject.execute(d)\n",
    "\n",
    "rows=dresults.fetchall()\n",
    "for result in rows:\n",
    "    print(result)"
   ]
  },
  {
   "cell_type": "code",
   "execution_count": 19,
   "metadata": {},
   "outputs": [
    {
     "name": "stdout",
     "output_type": "stream",
     "text": [
      "e. The city, country, and season for which the average rainfall is between 200 and 400 millimeters. \n",
      "('London', 'United Kingdom', 'Winter', 207.7)\n",
      "('London', 'United Kingdom', 'Fall', 218.5)\n",
      "('Mumbai', 'India', 'Fall', 346.0)\n"
     ]
    }
   ],
   "source": [
    "print(\"e. The city, country, and season for which the average rainfall is between 200 \\\n",
    "and 400 millimeters. \")\n",
    "e=\"SELECT city,Country,Season,rainfall FROM weather1997 where rainfall BETWEEN 200 AND 400 group by rainfall \"\n",
    "eresults=cursorObject.execute(e)\n",
    "\n",
    "rows=eresults.fetchall()\n",
    "for result in rows:\n",
    "    print(result)"
   ]
  },
  {
   "cell_type": "code",
   "execution_count": 20,
   "metadata": {},
   "outputs": [
    {
     "name": "stdout",
     "output_type": "stream",
     "text": [
      "f.The city and country for which the average Fall temperature is above 20degrees, in increasing temperature order.\n",
      "('Cairo', 'Egypt', 22.2)\n",
      "('Mumbai', 'India', 27.6)\n"
     ]
    }
   ],
   "source": [
    "print(\"f.The city and country for which the average Fall temperature is above 20\\\n",
    "degrees, in increasing temperature order.\")\n",
    "f=\"SELECT city,Country,Temperature FROM weather1997 where Temperature> 20 and Season='Fall' group by TEMPERATURE \"\n",
    "fresults=cursorObject.execute(f)\n",
    "\n",
    "rows=fresults.fetchall()\n",
    "for result in rows:\n",
    "    print(result)"
   ]
  },
  {
   "cell_type": "code",
   "execution_count": 45,
   "metadata": {},
   "outputs": [
    {
     "name": "stdout",
     "output_type": "stream",
     "text": [
      "g.The total annual rainfall for Cairo.\n",
      "(27.6,)\n"
     ]
    }
   ],
   "source": [
    "print(\"g.The total annual rainfall for Cairo.\")\n",
    "g=\"SELECT sum(rainfall) from weather1997 WHERE City='Cairo'\"  #Selects the annual rainfall of Cario.\n",
    "gresults=cursorObject.execute(g)\n",
    "rows=gresults.fetchall()\n",
    "for result in rows:\n",
    "    print(result)"
   ]
  },
  {
   "cell_type": "code",
   "execution_count": 46,
   "metadata": {},
   "outputs": [
    {
     "name": "stdout",
     "output_type": "stream",
     "text": [
      "h. The total rainfall for each season\n",
      "('Fall', 569.0)\n",
      "('Spring', 192.29999999999998)\n",
      "('Summer', 1706.5)\n",
      "('Winter', 230.1)\n"
     ]
    }
   ],
   "source": [
    "print(\"h. The total rainfall for each season\")\n",
    "h=\"SELECT Season,sum(rainfall) from weather1997 group by Season\"\n",
    "hresults=cursorObject.execute(h)\n",
    "rows=hresults.fetchall()\n",
    "for result in rows:\n",
    "    print(result)"
   ]
  },
  {
   "cell_type": "markdown",
   "metadata": {},
   "source": [
    "# Question 10"
   ]
  },
  {
   "cell_type": "markdown",
   "metadata": {},
   "source": [
    "List Comprehension "
   ]
  },
  {
   "cell_type": "code",
   "execution_count": 58,
   "metadata": {},
   "outputs": [],
   "source": [
    "words = ['The', 'quick', 'brown', 'fox', 'jumps', 'over','the', 'lazy', 'dog'] #Initializes the list"
   ]
  },
  {
   "cell_type": "code",
   "execution_count": 46,
   "metadata": {},
   "outputs": [
    {
     "name": "stdout",
     "output_type": "stream",
     "text": [
      "['THE', 'QUICK', 'BROWN', 'FOX', 'JUMPS', 'OVER', 'THE', 'LAZY', 'DOG']\n"
     ]
    }
   ],
   "source": [
    "a=[]                                            #Intializes the list\n",
    "x=[a.append(x.upper()) for x in words]           #List comprehension\n",
    "print(a)\n",
    "    "
   ]
  },
  {
   "cell_type": "code",
   "execution_count": 47,
   "metadata": {},
   "outputs": [
    {
     "name": "stdout",
     "output_type": "stream",
     "text": [
      "['the', 'quick', 'brown', 'fox', 'jumps', 'over', 'the', 'lazy', 'dog']\n"
     ]
    }
   ],
   "source": [
    "b=[]                                            #Intializes the list\n",
    "x=[b.append(x.lower()) for x in words]          #List comprehension\n",
    "print(b)"
   ]
  },
  {
   "cell_type": "code",
   "execution_count": 48,
   "metadata": {},
   "outputs": [
    {
     "name": "stdout",
     "output_type": "stream",
     "text": [
      "[3, 5, 5, 3, 5, 4, 3, 4, 3]\n"
     ]
    }
   ],
   "source": [
    "c=[]                                               #Intializes the list\n",
    "x= [c.append(len(x)) for x in words]               #List comprehension\n",
    "print(c)"
   ]
  },
  {
   "cell_type": "code",
   "execution_count": 49,
   "metadata": {},
   "outputs": [
    {
     "name": "stdout",
     "output_type": "stream",
     "text": [
      "[['THE', 'the', 3], ['QUICK', 'quick', 5], ['BROWN', 'brown', 5], ['FOX', 'fox', 3], ['JUMPS', 'jumps', 5], ['OVER', 'over', 4], ['THE', 'the', 3], ['LAZY', 'lazy', 4], ['DOG', 'dog', 3]]\n"
     ]
    }
   ],
   "source": [
    "d=[ ]                                              #Intializes the list\n",
    "x= [ d.append([a[i],b[i],c[i]]) for i in range(0,len(a))]  #List comprehension\n",
    "print(d)"
   ]
  },
  {
   "cell_type": "code",
   "execution_count": 50,
   "metadata": {},
   "outputs": [
    {
     "name": "stdout",
     "output_type": "stream",
     "text": [
      "['quick', 'brown', 'jumps', 'over', 'lazy']\n"
     ]
    }
   ],
   "source": [
    "e=[]                                             #Intializes the list\n",
    "x=[e.append(i) for i in words if len(i)>=4]     #List comprehension\n",
    "print(e)"
   ]
  },
  {
   "cell_type": "code",
   "execution_count": null,
   "metadata": {},
   "outputs": [],
   "source": []
  }
 ],
 "metadata": {
  "kernelspec": {
   "display_name": "Python 3",
   "language": "python",
   "name": "python3"
  },
  "language_info": {
   "codemirror_mode": {
    "name": "ipython",
    "version": 3
   },
   "file_extension": ".py",
   "mimetype": "text/x-python",
   "name": "python",
   "nbconvert_exporter": "python",
   "pygments_lexer": "ipython3",
   "version": "3.8.3"
  }
 },
 "nbformat": 4,
 "nbformat_minor": 4
}
